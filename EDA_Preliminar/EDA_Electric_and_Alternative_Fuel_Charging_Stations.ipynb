{
 "cells": [
  {
   "cell_type": "markdown",
   "id": "b3b85c55",
   "metadata": {},
   "source": [
    "# Análisis Exploratorio de Datos (EDA) preliminar del dataset \"Electric and Alternative Fuel Charging Stations.csv\"."
   ]
  },
  {
   "cell_type": "code",
   "execution_count": 11,
   "id": "8b688fc4",
   "metadata": {},
   "outputs": [],
   "source": [
    "import pandas as pd\n",
    "import matplotlib.pyplot as plt\n",
    "import seaborn as sns"
   ]
  },
  {
   "cell_type": "markdown",
   "id": "b1a87096",
   "metadata": {},
   "source": [
    "## Carga y Primer Vistazo"
   ]
  },
  {
   "cell_type": "code",
   "execution_count": 25,
   "id": "3b958217",
   "metadata": {},
   "outputs": [
    {
     "name": "stderr",
     "output_type": "stream",
     "text": [
      "C:\\Users\\etorre\\AppData\\Local\\Temp\\ipykernel_11564\\3197611263.py:2: DtypeWarning: Columns (6,16,20,31,33,36,39,40,41,43,46,52,53,55,57,58,60,62) have mixed types. Specify dtype option on import or set low_memory=False.\n",
      "  data = pd.read_csv(file_path)\n"
     ]
    },
    {
     "data": {
      "text/html": [
       "<div>\n",
       "<style scoped>\n",
       "    .dataframe tbody tr th:only-of-type {\n",
       "        vertical-align: middle;\n",
       "    }\n",
       "\n",
       "    .dataframe tbody tr th {\n",
       "        vertical-align: top;\n",
       "    }\n",
       "\n",
       "    .dataframe thead th {\n",
       "        text-align: right;\n",
       "    }\n",
       "</style>\n",
       "<table border=\"1\" class=\"dataframe\">\n",
       "  <thead>\n",
       "    <tr style=\"text-align: right;\">\n",
       "      <th></th>\n",
       "      <th>Fuel Type Code</th>\n",
       "      <th>Station Name</th>\n",
       "      <th>Street Address</th>\n",
       "      <th>Intersection Directions</th>\n",
       "      <th>City</th>\n",
       "      <th>State</th>\n",
       "      <th>ZIP</th>\n",
       "      <th>Plus4</th>\n",
       "      <th>Station Phone</th>\n",
       "      <th>Status Code</th>\n",
       "      <th>...</th>\n",
       "      <th>EV Pricing (French)</th>\n",
       "      <th>LPG Nozzle Types</th>\n",
       "      <th>Hydrogen Pressures</th>\n",
       "      <th>Hydrogen Standards</th>\n",
       "      <th>CNG Fill Type Code</th>\n",
       "      <th>CNG PSI</th>\n",
       "      <th>CNG Vehicle Class</th>\n",
       "      <th>LNG Vehicle Class</th>\n",
       "      <th>EV On-Site Renewable Source</th>\n",
       "      <th>Restricted Access</th>\n",
       "    </tr>\n",
       "  </thead>\n",
       "  <tbody>\n",
       "    <tr>\n",
       "      <th>0</th>\n",
       "      <td>CNG</td>\n",
       "      <td>Spire - Montgomery Operations Center</td>\n",
       "      <td>2951 Chestnut St</td>\n",
       "      <td>NaN</td>\n",
       "      <td>Montgomery</td>\n",
       "      <td>AL</td>\n",
       "      <td>36107</td>\n",
       "      <td>NaN</td>\n",
       "      <td>NaN</td>\n",
       "      <td>E</td>\n",
       "      <td>...</td>\n",
       "      <td>NaN</td>\n",
       "      <td>NaN</td>\n",
       "      <td>NaN</td>\n",
       "      <td>NaN</td>\n",
       "      <td>B</td>\n",
       "      <td>3600</td>\n",
       "      <td>MD</td>\n",
       "      <td>NaN</td>\n",
       "      <td>NaN</td>\n",
       "      <td>NaN</td>\n",
       "    </tr>\n",
       "    <tr>\n",
       "      <th>1</th>\n",
       "      <td>CNG</td>\n",
       "      <td>PS Energy - Atlanta</td>\n",
       "      <td>340 Whitehall St</td>\n",
       "      <td>From I-7585 N, exit 91 to Central Ave, left on...</td>\n",
       "      <td>Atlanta</td>\n",
       "      <td>GA</td>\n",
       "      <td>30303</td>\n",
       "      <td>NaN</td>\n",
       "      <td>770-350-3000</td>\n",
       "      <td>E</td>\n",
       "      <td>...</td>\n",
       "      <td>NaN</td>\n",
       "      <td>NaN</td>\n",
       "      <td>NaN</td>\n",
       "      <td>NaN</td>\n",
       "      <td>Q</td>\n",
       "      <td>3600</td>\n",
       "      <td>MD</td>\n",
       "      <td>NaN</td>\n",
       "      <td>NaN</td>\n",
       "      <td>False</td>\n",
       "    </tr>\n",
       "    <tr>\n",
       "      <th>2</th>\n",
       "      <td>CNG</td>\n",
       "      <td>Metropolitan Atlanta Rapid Transit Authority</td>\n",
       "      <td>2424 Piedmont Rd NE</td>\n",
       "      <td>NaN</td>\n",
       "      <td>Atlanta</td>\n",
       "      <td>GA</td>\n",
       "      <td>30324</td>\n",
       "      <td>NaN</td>\n",
       "      <td>NaN</td>\n",
       "      <td>E</td>\n",
       "      <td>...</td>\n",
       "      <td>NaN</td>\n",
       "      <td>NaN</td>\n",
       "      <td>NaN</td>\n",
       "      <td>NaN</td>\n",
       "      <td>Q</td>\n",
       "      <td>3000</td>\n",
       "      <td>LD</td>\n",
       "      <td>NaN</td>\n",
       "      <td>NaN</td>\n",
       "      <td>NaN</td>\n",
       "    </tr>\n",
       "  </tbody>\n",
       "</table>\n",
       "<p>3 rows × 65 columns</p>\n",
       "</div>"
      ],
      "text/plain": [
       "  Fuel Type Code                                  Station Name  \\\n",
       "0            CNG          Spire - Montgomery Operations Center   \n",
       "1            CNG                           PS Energy - Atlanta   \n",
       "2            CNG  Metropolitan Atlanta Rapid Transit Authority   \n",
       "\n",
       "        Street Address                            Intersection Directions  \\\n",
       "0     2951 Chestnut St                                                NaN   \n",
       "1     340 Whitehall St  From I-7585 N, exit 91 to Central Ave, left on...   \n",
       "2  2424 Piedmont Rd NE                                                NaN   \n",
       "\n",
       "         City State    ZIP  Plus4 Station Phone Status Code  ...  \\\n",
       "0  Montgomery    AL  36107    NaN           NaN           E  ...   \n",
       "1     Atlanta    GA  30303    NaN  770-350-3000           E  ...   \n",
       "2     Atlanta    GA  30324    NaN           NaN           E  ...   \n",
       "\n",
       "  EV Pricing (French) LPG Nozzle Types Hydrogen Pressures Hydrogen Standards  \\\n",
       "0                 NaN              NaN                NaN                NaN   \n",
       "1                 NaN              NaN                NaN                NaN   \n",
       "2                 NaN              NaN                NaN                NaN   \n",
       "\n",
       "  CNG Fill Type Code CNG PSI CNG Vehicle Class  LNG Vehicle Class  \\\n",
       "0                  B    3600                MD                NaN   \n",
       "1                  Q    3600                MD                NaN   \n",
       "2                  Q    3000                LD                NaN   \n",
       "\n",
       "   EV On-Site Renewable Source  Restricted Access  \n",
       "0                          NaN                NaN  \n",
       "1                          NaN              False  \n",
       "2                          NaN                NaN  \n",
       "\n",
       "[3 rows x 65 columns]"
      ]
     },
     "execution_count": 25,
     "metadata": {},
     "output_type": "execute_result"
    }
   ],
   "source": [
    "file_path = '../Datasets/Electric and Alternative Fuel Charging Stations.csv'\n",
    "data = pd.read_csv(file_path)\n",
    "data.head(3)\n"
   ]
  },
  {
   "cell_type": "markdown",
   "id": "6c91b944",
   "metadata": {},
   "source": [
    "### Diccionario de datos (solo columnas analizadas)\n",
    "| Columna | Tipo de Dato | Descripción |\n",
    "| --- | --- | --- |\n",
    "| Fuel Type Code | object | Tipo de combustible de la estación (ej. ELEC, CNG, etc.). |\n",
    "| Station Name | object | Nombre de la estación de carga. |\n",
    "| Street Address | object | Dirección de la calle de la estación de carga. |\n",
    "| City | object | Ciudad donde se encuentra la estación. |\n",
    "| State | object | Estado o región donde se encuentra la estación. |\n",
    "| ZIP | object | Código postal de la ubicación de la estación. |\n",
    "| Access Days Time | object | Horario de acceso a la estación de carga. |\n",
    "| EV Network | object | Red de estaciones de carga eléctrica a la que pertenece la estación. |\n",
    "| Restricted Access | object | Indica si el acceso a la estación está restringido o no. |\n"
   ]
  },
  {
   "cell_type": "code",
   "execution_count": 8,
   "id": "08eb9c80",
   "metadata": {},
   "outputs": [
    {
     "data": {
      "text/plain": [
       "((70406, 65),\n",
       " Fuel Type Code                 object\n",
       " Station Name                   object\n",
       " Street Address                 object\n",
       " Intersection Directions        object\n",
       " City                           object\n",
       "                                 ...  \n",
       " CNG PSI                        object\n",
       " CNG Vehicle Class              object\n",
       " LNG Vehicle Class              object\n",
       " EV On-Site Renewable Source    object\n",
       " Restricted Access              object\n",
       " Length: 65, dtype: object)"
      ]
     },
     "execution_count": 8,
     "metadata": {},
     "output_type": "execute_result"
    }
   ],
   "source": [
    "\n",
    "summary = {\n",
    "    \"Dimensiones del DataFrame\": data.shape,\n",
    "    \"Tipo de Datos por Columna\": data.dtypes,\n",
    "    \"Cantidad de Valores Faltantes por Columna\": data.isna().sum().sort_values(ascending=False),\n",
    "    \"Estadísticas Descriptivas Básicas\": data.describe(include='all')\n",
    "}\n"
   ]
  },
  {
   "cell_type": "code",
   "execution_count": 5,
   "id": "d059227b",
   "metadata": {},
   "outputs": [
    {
     "data": {
      "text/plain": [
       "(70406, 65)"
      ]
     },
     "execution_count": 5,
     "metadata": {},
     "output_type": "execute_result"
    }
   ],
   "source": [
    "summary[\"Dimensiones del DataFrame\"]"
   ]
  },
  {
   "cell_type": "code",
   "execution_count": 6,
   "id": "3e4be92a",
   "metadata": {},
   "outputs": [
    {
     "data": {
      "text/plain": [
       "Fuel Type Code                 object\n",
       "Station Name                   object\n",
       "Street Address                 object\n",
       "Intersection Directions        object\n",
       "City                           object\n",
       "                                ...  \n",
       "CNG PSI                        object\n",
       "CNG Vehicle Class              object\n",
       "LNG Vehicle Class              object\n",
       "EV On-Site Renewable Source    object\n",
       "Restricted Access              object\n",
       "Length: 65, dtype: object"
      ]
     },
     "execution_count": 6,
     "metadata": {},
     "output_type": "execute_result"
    }
   ],
   "source": [
    "summary[\"Tipo de Datos por Columna\"]"
   ]
  },
  {
   "cell_type": "code",
   "execution_count": 9,
   "id": "cb0e305c",
   "metadata": {},
   "outputs": [
    {
     "data": {
      "text/plain": [
       "Plus4                           70406\n",
       "BD Blends (French)              70404\n",
       "EV Other Info                   70357\n",
       "LNG On-Site Renewable Source    70344\n",
       "Hydrogen Status Link            70323\n",
       "                                ...  \n",
       "ID                                  0\n",
       "Updated At                          0\n",
       "Station Name                        0\n",
       "Country                             0\n",
       "Fuel Type Code                      0\n",
       "Length: 65, dtype: int64"
      ]
     },
     "execution_count": 9,
     "metadata": {},
     "output_type": "execute_result"
    }
   ],
   "source": [
    "summary[\"Cantidad de Valores Faltantes por Columna\"]"
   ]
  },
  {
   "cell_type": "markdown",
   "id": "a6a4aef1",
   "metadata": {},
   "source": [
    "### Resultados:\n",
    "El conjunto de datos tiene 70,406 filas y 65 columnas. <br>\n",
    "La mayoría de las columnas son de tipo objeto (cadena de texto), lo que indica que contienen datos textuales o categóricos. Algunas columnas clave son:\n",
    "\n",
    "Fuel Type Code<br>\n",
    "Station Name<br>\n",
    "Street Address<br>\n",
    "City<br>\n",
    "State<br>\n",
    "ZIP Code<br>\n",
    "Station Phone<br>\n",
    "Status Code<br>\n",
    "Access Days Time<br>\n",
    "EV Network<br>\n",
    "Estas columnas sugieren información sobre la ubicación de las estaciones de carga, tipos de combustible, acceso y redes de carga para vehículos eléctricos.\n",
    "\n",
    "El resumen de los datos revela varios puntos clave:\n",
    "<br>\n",
    "**Valores Faltantes:** Algunas columnas tienen una cantidad significativa de valores faltantes. Por ejemplo, \"Intersection Directions\" tiene 65,913 valores faltantes de 70,406 entradas. Esto sugiere que ciertas columnas pueden requerir atención especial, como imputación o eliminación.\n",
    "<br>\n",
    "**Distribución de Datos:** La columna \"Fuel Type Code\" tiene principalmente el valor \"ELEC\", indicando una predominancia de estaciones de carga eléctrica. Además, hay columnas con una gran cantidad de valores únicos, como \"Station Name\" y \"Street Address\", lo que indica una amplia variedad de ubicaciones y nombres de estaciones.\n",
    "<br>\n",
    "**Datos Categóricos y Numéricos:** La mayoría de las columnas son categóricas (tipo de datos \"object\"). Algunas columnas numéricas, como \"ZIP\" (código postal), pueden requerir un tratamiento especial, ya que en realidad representan categorías y no valores continuos."
   ]
  },
  {
   "cell_type": "code",
   "execution_count": 22,
   "id": "e906d31e",
   "metadata": {},
   "outputs": [
    {
     "data": {
      "text/html": [
       "<div>\n",
       "<style scoped>\n",
       "    .dataframe tbody tr th:only-of-type {\n",
       "        vertical-align: middle;\n",
       "    }\n",
       "\n",
       "    .dataframe tbody tr th {\n",
       "        vertical-align: top;\n",
       "    }\n",
       "\n",
       "    .dataframe thead th {\n",
       "        text-align: right;\n",
       "    }\n",
       "</style>\n",
       "<table border=\"1\" class=\"dataframe\">\n",
       "  <thead>\n",
       "    <tr style=\"text-align: right;\">\n",
       "      <th></th>\n",
       "      <th>Fuel Type Code</th>\n",
       "      <th>Station Name</th>\n",
       "      <th>Street Address</th>\n",
       "      <th>Intersection Directions</th>\n",
       "      <th>City</th>\n",
       "      <th>State</th>\n",
       "      <th>ZIP</th>\n",
       "      <th>Plus4</th>\n",
       "      <th>Station Phone</th>\n",
       "      <th>Status Code</th>\n",
       "      <th>...</th>\n",
       "      <th>EV Pricing (French)</th>\n",
       "      <th>LPG Nozzle Types</th>\n",
       "      <th>Hydrogen Pressures</th>\n",
       "      <th>Hydrogen Standards</th>\n",
       "      <th>CNG Fill Type Code</th>\n",
       "      <th>CNG PSI</th>\n",
       "      <th>CNG Vehicle Class</th>\n",
       "      <th>LNG Vehicle Class</th>\n",
       "      <th>EV On-Site Renewable Source</th>\n",
       "      <th>Restricted Access</th>\n",
       "    </tr>\n",
       "  </thead>\n",
       "  <tbody>\n",
       "    <tr>\n",
       "      <th>count</th>\n",
       "      <td>70406</td>\n",
       "      <td>70406</td>\n",
       "      <td>70405</td>\n",
       "      <td>4492</td>\n",
       "      <td>70406</td>\n",
       "      <td>70406</td>\n",
       "      <td>70405</td>\n",
       "      <td>0.0</td>\n",
       "      <td>65204</td>\n",
       "      <td>70406</td>\n",
       "      <td>...</td>\n",
       "      <td>2032</td>\n",
       "      <td>1826</td>\n",
       "      <td>116</td>\n",
       "      <td>116</td>\n",
       "      <td>1603</td>\n",
       "      <td>1597</td>\n",
       "      <td>1622</td>\n",
       "      <td>158</td>\n",
       "      <td>370</td>\n",
       "      <td>53435</td>\n",
       "    </tr>\n",
       "    <tr>\n",
       "      <th>unique</th>\n",
       "      <td>7</td>\n",
       "      <td>62835</td>\n",
       "      <td>52295</td>\n",
       "      <td>4034</td>\n",
       "      <td>8278</td>\n",
       "      <td>65</td>\n",
       "      <td>22182</td>\n",
       "      <td>NaN</td>\n",
       "      <td>17059</td>\n",
       "      <td>3</td>\n",
       "      <td>...</td>\n",
       "      <td>140</td>\n",
       "      <td>4</td>\n",
       "      <td>2</td>\n",
       "      <td>2</td>\n",
       "      <td>3</td>\n",
       "      <td>5</td>\n",
       "      <td>3</td>\n",
       "      <td>1</td>\n",
       "      <td>6</td>\n",
       "      <td>2</td>\n",
       "    </tr>\n",
       "    <tr>\n",
       "      <th>top</th>\n",
       "      <td>ELEC</td>\n",
       "      <td>Casey's General Store</td>\n",
       "      <td>5515 Overland Ave</td>\n",
       "      <td>.\\n</td>\n",
       "      <td>Los Angeles</td>\n",
       "      <td>CA</td>\n",
       "      <td>94025</td>\n",
       "      <td>NaN</td>\n",
       "      <td>888-758-4389</td>\n",
       "      <td>E</td>\n",
       "      <td>...</td>\n",
       "      <td>Gratuit</td>\n",
       "      <td>[\"ACME\"]</td>\n",
       "      <td>[\"700\"]</td>\n",
       "      <td>[\"J2601\"]</td>\n",
       "      <td>Q</td>\n",
       "      <td>3600</td>\n",
       "      <td>HD</td>\n",
       "      <td>HD</td>\n",
       "      <td>SOLAR</td>\n",
       "      <td>False</td>\n",
       "    </tr>\n",
       "    <tr>\n",
       "      <th>freq</th>\n",
       "      <td>60907</td>\n",
       "      <td>935</td>\n",
       "      <td>118</td>\n",
       "      <td>39</td>\n",
       "      <td>1586</td>\n",
       "      <td>16106</td>\n",
       "      <td>363</td>\n",
       "      <td>NaN</td>\n",
       "      <td>29547</td>\n",
       "      <td>69188</td>\n",
       "      <td>...</td>\n",
       "      <td>1499</td>\n",
       "      <td>1007</td>\n",
       "      <td>71</td>\n",
       "      <td>115</td>\n",
       "      <td>1155</td>\n",
       "      <td>1126</td>\n",
       "      <td>1331</td>\n",
       "      <td>158</td>\n",
       "      <td>252</td>\n",
       "      <td>52181</td>\n",
       "    </tr>\n",
       "    <tr>\n",
       "      <th>mean</th>\n",
       "      <td>NaN</td>\n",
       "      <td>NaN</td>\n",
       "      <td>NaN</td>\n",
       "      <td>NaN</td>\n",
       "      <td>NaN</td>\n",
       "      <td>NaN</td>\n",
       "      <td>NaN</td>\n",
       "      <td>NaN</td>\n",
       "      <td>NaN</td>\n",
       "      <td>NaN</td>\n",
       "      <td>...</td>\n",
       "      <td>NaN</td>\n",
       "      <td>NaN</td>\n",
       "      <td>NaN</td>\n",
       "      <td>NaN</td>\n",
       "      <td>NaN</td>\n",
       "      <td>NaN</td>\n",
       "      <td>NaN</td>\n",
       "      <td>NaN</td>\n",
       "      <td>NaN</td>\n",
       "      <td>NaN</td>\n",
       "    </tr>\n",
       "    <tr>\n",
       "      <th>std</th>\n",
       "      <td>NaN</td>\n",
       "      <td>NaN</td>\n",
       "      <td>NaN</td>\n",
       "      <td>NaN</td>\n",
       "      <td>NaN</td>\n",
       "      <td>NaN</td>\n",
       "      <td>NaN</td>\n",
       "      <td>NaN</td>\n",
       "      <td>NaN</td>\n",
       "      <td>NaN</td>\n",
       "      <td>...</td>\n",
       "      <td>NaN</td>\n",
       "      <td>NaN</td>\n",
       "      <td>NaN</td>\n",
       "      <td>NaN</td>\n",
       "      <td>NaN</td>\n",
       "      <td>NaN</td>\n",
       "      <td>NaN</td>\n",
       "      <td>NaN</td>\n",
       "      <td>NaN</td>\n",
       "      <td>NaN</td>\n",
       "    </tr>\n",
       "    <tr>\n",
       "      <th>min</th>\n",
       "      <td>NaN</td>\n",
       "      <td>NaN</td>\n",
       "      <td>NaN</td>\n",
       "      <td>NaN</td>\n",
       "      <td>NaN</td>\n",
       "      <td>NaN</td>\n",
       "      <td>NaN</td>\n",
       "      <td>NaN</td>\n",
       "      <td>NaN</td>\n",
       "      <td>NaN</td>\n",
       "      <td>...</td>\n",
       "      <td>NaN</td>\n",
       "      <td>NaN</td>\n",
       "      <td>NaN</td>\n",
       "      <td>NaN</td>\n",
       "      <td>NaN</td>\n",
       "      <td>NaN</td>\n",
       "      <td>NaN</td>\n",
       "      <td>NaN</td>\n",
       "      <td>NaN</td>\n",
       "      <td>NaN</td>\n",
       "    </tr>\n",
       "    <tr>\n",
       "      <th>25%</th>\n",
       "      <td>NaN</td>\n",
       "      <td>NaN</td>\n",
       "      <td>NaN</td>\n",
       "      <td>NaN</td>\n",
       "      <td>NaN</td>\n",
       "      <td>NaN</td>\n",
       "      <td>NaN</td>\n",
       "      <td>NaN</td>\n",
       "      <td>NaN</td>\n",
       "      <td>NaN</td>\n",
       "      <td>...</td>\n",
       "      <td>NaN</td>\n",
       "      <td>NaN</td>\n",
       "      <td>NaN</td>\n",
       "      <td>NaN</td>\n",
       "      <td>NaN</td>\n",
       "      <td>NaN</td>\n",
       "      <td>NaN</td>\n",
       "      <td>NaN</td>\n",
       "      <td>NaN</td>\n",
       "      <td>NaN</td>\n",
       "    </tr>\n",
       "    <tr>\n",
       "      <th>50%</th>\n",
       "      <td>NaN</td>\n",
       "      <td>NaN</td>\n",
       "      <td>NaN</td>\n",
       "      <td>NaN</td>\n",
       "      <td>NaN</td>\n",
       "      <td>NaN</td>\n",
       "      <td>NaN</td>\n",
       "      <td>NaN</td>\n",
       "      <td>NaN</td>\n",
       "      <td>NaN</td>\n",
       "      <td>...</td>\n",
       "      <td>NaN</td>\n",
       "      <td>NaN</td>\n",
       "      <td>NaN</td>\n",
       "      <td>NaN</td>\n",
       "      <td>NaN</td>\n",
       "      <td>NaN</td>\n",
       "      <td>NaN</td>\n",
       "      <td>NaN</td>\n",
       "      <td>NaN</td>\n",
       "      <td>NaN</td>\n",
       "    </tr>\n",
       "    <tr>\n",
       "      <th>75%</th>\n",
       "      <td>NaN</td>\n",
       "      <td>NaN</td>\n",
       "      <td>NaN</td>\n",
       "      <td>NaN</td>\n",
       "      <td>NaN</td>\n",
       "      <td>NaN</td>\n",
       "      <td>NaN</td>\n",
       "      <td>NaN</td>\n",
       "      <td>NaN</td>\n",
       "      <td>NaN</td>\n",
       "      <td>...</td>\n",
       "      <td>NaN</td>\n",
       "      <td>NaN</td>\n",
       "      <td>NaN</td>\n",
       "      <td>NaN</td>\n",
       "      <td>NaN</td>\n",
       "      <td>NaN</td>\n",
       "      <td>NaN</td>\n",
       "      <td>NaN</td>\n",
       "      <td>NaN</td>\n",
       "      <td>NaN</td>\n",
       "    </tr>\n",
       "    <tr>\n",
       "      <th>max</th>\n",
       "      <td>NaN</td>\n",
       "      <td>NaN</td>\n",
       "      <td>NaN</td>\n",
       "      <td>NaN</td>\n",
       "      <td>NaN</td>\n",
       "      <td>NaN</td>\n",
       "      <td>NaN</td>\n",
       "      <td>NaN</td>\n",
       "      <td>NaN</td>\n",
       "      <td>NaN</td>\n",
       "      <td>...</td>\n",
       "      <td>NaN</td>\n",
       "      <td>NaN</td>\n",
       "      <td>NaN</td>\n",
       "      <td>NaN</td>\n",
       "      <td>NaN</td>\n",
       "      <td>NaN</td>\n",
       "      <td>NaN</td>\n",
       "      <td>NaN</td>\n",
       "      <td>NaN</td>\n",
       "      <td>NaN</td>\n",
       "    </tr>\n",
       "  </tbody>\n",
       "</table>\n",
       "<p>11 rows × 65 columns</p>\n",
       "</div>"
      ],
      "text/plain": [
       "       Fuel Type Code           Station Name     Street Address  \\\n",
       "count           70406                  70406              70405   \n",
       "unique              7                  62835              52295   \n",
       "top              ELEC  Casey's General Store  5515 Overland Ave   \n",
       "freq            60907                    935                118   \n",
       "mean              NaN                    NaN                NaN   \n",
       "std               NaN                    NaN                NaN   \n",
       "min               NaN                    NaN                NaN   \n",
       "25%               NaN                    NaN                NaN   \n",
       "50%               NaN                    NaN                NaN   \n",
       "75%               NaN                    NaN                NaN   \n",
       "max               NaN                    NaN                NaN   \n",
       "\n",
       "       Intersection Directions         City  State    ZIP  Plus4  \\\n",
       "count                     4492        70406  70406  70405    0.0   \n",
       "unique                    4034         8278     65  22182    NaN   \n",
       "top                        .\\n  Los Angeles     CA  94025    NaN   \n",
       "freq                        39         1586  16106    363    NaN   \n",
       "mean                       NaN          NaN    NaN    NaN    NaN   \n",
       "std                        NaN          NaN    NaN    NaN    NaN   \n",
       "min                        NaN          NaN    NaN    NaN    NaN   \n",
       "25%                        NaN          NaN    NaN    NaN    NaN   \n",
       "50%                        NaN          NaN    NaN    NaN    NaN   \n",
       "75%                        NaN          NaN    NaN    NaN    NaN   \n",
       "max                        NaN          NaN    NaN    NaN    NaN   \n",
       "\n",
       "       Station Phone Status Code  ... EV Pricing (French) LPG Nozzle Types  \\\n",
       "count          65204       70406  ...                2032             1826   \n",
       "unique         17059           3  ...                 140                4   \n",
       "top     888-758-4389           E  ...             Gratuit         [\"ACME\"]   \n",
       "freq           29547       69188  ...                1499             1007   \n",
       "mean             NaN         NaN  ...                 NaN              NaN   \n",
       "std              NaN         NaN  ...                 NaN              NaN   \n",
       "min              NaN         NaN  ...                 NaN              NaN   \n",
       "25%              NaN         NaN  ...                 NaN              NaN   \n",
       "50%              NaN         NaN  ...                 NaN              NaN   \n",
       "75%              NaN         NaN  ...                 NaN              NaN   \n",
       "max              NaN         NaN  ...                 NaN              NaN   \n",
       "\n",
       "       Hydrogen Pressures Hydrogen Standards CNG Fill Type Code CNG PSI  \\\n",
       "count                 116                116               1603    1597   \n",
       "unique                  2                  2                  3       5   \n",
       "top               [\"700\"]          [\"J2601\"]                  Q    3600   \n",
       "freq                   71                115               1155    1126   \n",
       "mean                  NaN                NaN                NaN     NaN   \n",
       "std                   NaN                NaN                NaN     NaN   \n",
       "min                   NaN                NaN                NaN     NaN   \n",
       "25%                   NaN                NaN                NaN     NaN   \n",
       "50%                   NaN                NaN                NaN     NaN   \n",
       "75%                   NaN                NaN                NaN     NaN   \n",
       "max                   NaN                NaN                NaN     NaN   \n",
       "\n",
       "       CNG Vehicle Class  LNG Vehicle Class  EV On-Site Renewable Source  \\\n",
       "count               1622                158                          370   \n",
       "unique                 3                  1                            6   \n",
       "top                   HD                 HD                        SOLAR   \n",
       "freq                1331                158                          252   \n",
       "mean                 NaN                NaN                          NaN   \n",
       "std                  NaN                NaN                          NaN   \n",
       "min                  NaN                NaN                          NaN   \n",
       "25%                  NaN                NaN                          NaN   \n",
       "50%                  NaN                NaN                          NaN   \n",
       "75%                  NaN                NaN                          NaN   \n",
       "max                  NaN                NaN                          NaN   \n",
       "\n",
       "        Restricted Access  \n",
       "count               53435  \n",
       "unique                  2  \n",
       "top                 False  \n",
       "freq                52181  \n",
       "mean                  NaN  \n",
       "std                   NaN  \n",
       "min                   NaN  \n",
       "25%                   NaN  \n",
       "50%                   NaN  \n",
       "75%                   NaN  \n",
       "max                   NaN  \n",
       "\n",
       "[11 rows x 65 columns]"
      ]
     },
     "execution_count": 22,
     "metadata": {},
     "output_type": "execute_result"
    }
   ],
   "source": [
    "summary[\"Estadísticas Descriptivas Básicas\"]"
   ]
  },
  {
   "cell_type": "markdown",
   "id": "13522644",
   "metadata": {},
   "source": [
    "### Valores duplicados"
   ]
  },
  {
   "cell_type": "code",
   "execution_count": 14,
   "id": "cf38020b",
   "metadata": {},
   "outputs": [
    {
     "name": "stdout",
     "output_type": "stream",
     "text": [
      "Número de registros duplicados: 0\n"
     ]
    }
   ],
   "source": [
    "\n",
    "duplicates = data.duplicated().sum()\n",
    "print(f'Número de registros duplicados: {duplicates}')\n"
   ]
  },
  {
   "cell_type": "markdown",
   "id": "38265191",
   "metadata": {},
   "source": [
    "### Outliers\n"
   ]
  },
  {
   "cell_type": "code",
   "execution_count": 15,
   "id": "3271b0bb",
   "metadata": {},
   "outputs": [
    {
     "data": {
      "image/png": "[encoded data removed]",
      "text/plain": [
       "<Figure size 1000x600 with 1 Axes>"
      ]
     },
     "metadata": {},
     "output_type": "display_data"
    }
   ],
   "source": [
    "# Convertir la columna 'ZIP' a numérica (ignorando errores para manejar valores no numéricos)\n",
    "data['ZIP'] = pd.to_numeric(data['ZIP'], errors='coerce')\n",
    "\n",
    "# Visualización de outliers utilizando un boxplot\n",
    "plt.figure(figsize=(10, 6))\n",
    "sns.boxplot(data['ZIP'])\n",
    "plt.title('Boxplot de Código Postal (ZIP)')\n",
    "plt.show()"
   ]
  },
  {
   "cell_type": "markdown",
   "id": "267f2571",
   "metadata": {},
   "source": [
    "## Análisis Disponibilidad Infraestructura de carga\n",
    "\n",
    "Para este analisis nos centraremos en las siguientes áreas clave del conjunto de datos:\n",
    "\n",
    "**Tipos de Estaciones de Carga**: Analizar la distribución de los diferentes tipos de estaciones de carga (por ejemplo, eléctrica, gas natural comprimido (CNG), etc.), utilizando la columna \"Fuel Type Code\".\n",
    "\n",
    "**Ubicaciones Geográficas**: Examinar la distribución geográfica de las estaciones de carga, enfocándonos en columnas como \"City\", \"State\", y \"ZIP\" para entender dónde están más concentradas estas infraestructuras.\n",
    "\n",
    "**Disponibilidad y Acceso**: Investigar la disponibilidad de las estaciones de carga, que puede incluir el análisis de columnas como \"Access Days Time\", \"EV Network\", y \"Restricted Access\"."
   ]
  },
  {
   "cell_type": "code",
   "execution_count": 12,
   "id": "87358e69",
   "metadata": {},
   "outputs": [
    {
     "data": {
      "image/png": "[encoded data removed]",
      "text/plain": [
       "<Figure size 1000x600 with 1 Axes>"
      ]
     },
     "metadata": {},
     "output_type": "display_data"
    },
    {
     "data": {
      "text/plain": [
       "Fuel Type Code\n",
       "ELEC    60907\n",
       "E85      4508\n",
       "LPG      1867\n",
       "CNG      1631\n",
       "BD       1218\n",
       "LNG       158\n",
       "HY        117\n",
       "Name: count, dtype: int64"
      ]
     },
     "execution_count": 12,
     "metadata": {},
     "output_type": "execute_result"
    }
   ],
   "source": [
    "sns.set(style=\"whitegrid\")\n",
    "\n",
    "fuel_type_counts = data['Fuel Type Code'].value_counts()\n",
    "\n",
    "plt.figure(figsize=(10, 6))\n",
    "sns.barplot(x=fuel_type_counts.index, y=fuel_type_counts.values, palette=\"viridis\")\n",
    "plt.title('Distribución de Tipos de Estaciones de Carga')\n",
    "plt.xlabel('Tipo de Combustible')\n",
    "plt.ylabel('Número de Estaciones')\n",
    "plt.xticks(rotation=45)\n",
    "plt.show()\n",
    "\n",
    "fuel_type_counts\n"
   ]
  },
  {
   "cell_type": "markdown",
   "id": "fe9f3cf8",
   "metadata": {},
   "source": [
    "### Resultados\n",
    "La visualización muestra la distribución de los diferentes tipos de estaciones de carga en el conjunto de datos:\n",
    "\n",
    "**ELEC (Eléctrico):** Con 60,907 estaciones, es el tipo más común, lo que refleja una amplia disponibilidad de infraestructura de carga eléctrica.<br>\n",
    "**E85 (Etanol)**: El segundo más común con 4,508 estaciones.<br>\n",
    "**LPG (Gas Licuado de Petróleo)**: Con 1,867 estaciones.<br>\n",
    "**CNG (Gas Natural Comprimido)**: Representa 1,631 estaciones.<br>\n",
    "**BD (Biodiésel)**: Cuenta con 1,218 estaciones.<br>\n",
    "**LNG (Gas Natural Licuado) y HY (Hidrógeno)**: Son los menos comunes, con 158 y 117 estaciones, respectivamente.<br>"
   ]
  },
  {
   "cell_type": "markdown",
   "id": "47ac48ac",
   "metadata": {},
   "source": [
    "## Análisis de distribución geográfica de las estaciones de carga"
   ]
  },
  {
   "cell_type": "markdown",
   "id": "5b9bcf86",
   "metadata": {},
   "source": [
    "Nos centraremos en las ubicaciones por estado y ciudad, para comprender mejor dónde se concentra esta infraestructura. Esto nos proporcionará una visión más clara de la disponibilidad geográfica de las estaciones de carga en diferentes regiones. "
   ]
  },
  {
   "cell_type": "code",
   "execution_count": 20,
   "id": "4accca25",
   "metadata": {},
   "outputs": [
    {
     "data": {
      "image/png": "[encoded data removed]",
      "text/plain": [
       "<Figure size 3000x600 with 1 Axes>"
      ]
     },
     "metadata": {},
     "output_type": "display_data"
    },
    {
     "data": {
      "text/plain": [
       "State\n",
       "CA    16106\n",
       "QC     3502\n",
       "NY     3409\n",
       "FL     3113\n",
       "TX     3002\n",
       "ON     2472\n",
       "MA     2385\n",
       "WA     1916\n",
       "CO     1894\n",
       "GA     1763\n",
       "Name: count, dtype: int64"
      ]
     },
     "execution_count": 20,
     "metadata": {},
     "output_type": "execute_result"
    }
   ],
   "source": [
    "# Distribución de Estaciones de Carga por Estado\n",
    "state_counts = data['State'].value_counts()\n",
    "city_counts = data['City'].value_counts().head(20)\n",
    "\n",
    "plt.figure(figsize=(30, 6))\n",
    "\n",
    "plt.subplot(1, 2, 1)\n",
    "sns.barplot(x=state_counts.index, y=state_counts.values, palette=\"coolwarm\")\n",
    "plt.title('Distribución de Estaciones de Carga por Estado')\n",
    "plt.xlabel('Estado')\n",
    "plt.ylabel('Número de Estaciones')\n",
    "plt.xticks(rotation=90)\n",
    "plt.show()\n",
    "\n",
    "state_counts.head(10)"
   ]
  },
  {
   "cell_type": "markdown",
   "id": "225c29ae",
   "metadata": {},
   "source": [
    "### Resultados:\n",
    "La distribución geográfica de las estaciones de carga revela una concentración significativa en ciertas áreas:\n",
    "\n",
    "**Top 10 Estados con Más Estaciones de Carga**<br><br>\n",
    "California (CA): 16,106 estaciones.<br>\n",
    "Quebec (QC): 3,502 estaciones.<br>\n",
    "Nueva York (NY): 3,409 estaciones.<br>\n",
    "Florida (FL): 3,113 estaciones.<br>\n",
    "Texas (TX): 3,002 estaciones.<br>\n",
    "Ontario (ON): 2,472 estaciones.<br>\n",
    "Massachusetts (MA): 2,385 estaciones.<br>\n",
    "Washington (WA): 1,916 estaciones.<br>\n",
    "Colorado (CO): 1,894 estaciones.<br>\n",
    "Georgia (GA): 1,763 estaciones.<br>"
   ]
  },
  {
   "cell_type": "markdown",
   "id": "2e04dc40",
   "metadata": {},
   "source": [
    "### Top 20 Ciudades con Estaciones de Carga"
   ]
  },
  {
   "cell_type": "code",
   "execution_count": 21,
   "id": "c9aa5acd",
   "metadata": {},
   "outputs": [
    {
     "data": {
      "image/png": "[encoded data removed]",
      "text/plain": [
       "<Figure size 640x480 with 1 Axes>"
      ]
     },
     "metadata": {},
     "output_type": "display_data"
    },
    {
     "data": {
      "text/plain": [
       "City\n",
       "Los Angeles      1586\n",
       "San Diego         918\n",
       "Montréal          635\n",
       "Atlanta           608\n",
       "San Jose          587\n",
       "Irvine            580\n",
       "Austin            579\n",
       "Kansas City       463\n",
       "San Francisco     453\n",
       "Seattle           429\n",
       "Name: count, dtype: int64"
      ]
     },
     "execution_count": 21,
     "metadata": {},
     "output_type": "execute_result"
    }
   ],
   "source": [
    "# 'Top 20 Ciudades con Estaciones de Carga'\n",
    "plt.subplot(1, 2, 2)\n",
    "sns.barplot(x=city_counts.values, y=city_counts.index, palette=\"coolwarm\")\n",
    "plt.title('Top 20 Ciudades con Estaciones de Carga')\n",
    "plt.xlabel('Número de Estaciones')\n",
    "plt.ylabel('Ciudad')\n",
    "\n",
    "plt.tight_layout()\n",
    "plt.show()\n",
    "\n",
    "city_counts.head(10)\n"
   ]
  },
  {
   "cell_type": "markdown",
   "id": "53d2664a",
   "metadata": {},
   "source": [
    "### Resultados:\n",
    "**Top 10 Ciudades con Más Estaciones de Carga** <br>\n",
    "<br>\n",
    "Los Ángeles: 1,586 estaciones.<br>\n",
    "San Diego: 918 estaciones.<br>\n",
    "Montréal: 635 estaciones.<br>\n",
    "Atlanta: 608 estaciones.<br>\n",
    "San José: 587 estaciones.<br>\n",
    "Irvine: 580 estaciones.<br>\n",
    "Austin: 579 estaciones.<br>\n",
    "Kansas City: 463 estaciones.<br>\n",
    "San Francisco: 453 estaciones.<br>\n",
    "Seattle: 429 estaciones.<br>"
   ]
  },
  {
   "cell_type": "markdown",
   "id": "c2808f49",
   "metadata": {},
   "source": [
    "## Análisis de la disponibilidad y el acceso a las estaciones de carga en el estado de Nueva York (NY)"
   ]
  },
  {
   "cell_type": "code",
   "execution_count": 23,
   "id": "0cfa2031",
   "metadata": {},
   "outputs": [],
   "source": [
    "# Filtrar los datos para el estado de Nueva York (NY)\n",
    "data_ny = data[data['State'] == 'NY']"
   ]
  },
  {
   "cell_type": "code",
   "execution_count": 24,
   "id": "cf2519c9",
   "metadata": {},
   "outputs": [
    {
     "data": {
      "text/plain": [
       "(Access Days Time\n",
       " 24 hours daily                                                                                                   2244\n",
       " 24 hours daily; see valet for access                                                                              163\n",
       " MON: 24 hours | TUE: 24 hours | WED: 24 hours | THU: 24 hours | FRI: 24 hours | SAT: 24 hours | SUN: 24 hours     103\n",
       " 24 hours daily; for customer use only; see front desk for access                                                   98\n",
       " 24 hours daily; pay lot; see valet for access                                                                      80\n",
       " Name: count, dtype: int64,\n",
       " EV Network\n",
       " ChargePoint Network    1627\n",
       " Tesla Destination       472\n",
       " EV Connect              334\n",
       " Non-Networked           269\n",
       " LIVINGSTON              190\n",
       " Name: count, dtype: int64,\n",
       " Restricted Access\n",
       " False    2624\n",
       " True       33\n",
       " Name: count, dtype: int64)"
      ]
     },
     "execution_count": 24,
     "metadata": {},
     "output_type": "execute_result"
    }
   ],
   "source": [
    "# Resumen de los horarios de acceso\n",
    "access_days_time_summary = data_ny['Access Days Time'].value_counts()\n",
    "\n",
    "# Resumen de la red de EV\n",
    "ev_network_summary = data_ny['EV Network'].value_counts()\n",
    "\n",
    "# Resumen del acceso restringido\n",
    "restricted_access_summary = data_ny['Restricted Access'].value_counts()\n",
    "\n",
    "access_days_time_summary.head(), ev_network_summary.head(), restricted_access_summary.head()\n"
   ]
  },
  {
   "cell_type": "markdown",
   "id": "7f8046cf",
   "metadata": {},
   "source": [
    "### Resultado:\n",
    "**Horarios de Acceso (Access Days Time)**<br>\n",
    "24 horas diarias: La mayoría de las estaciones (2,244) están disponibles las 24 horas del día.<br>\n",
    "24 horas con acceso a través de valet: 163 estaciones requieren contactar al valet para acceder.<br>\n",
    "Horario específico durante toda la semana: 103 estaciones tienen disponibilidad las 24 horas durante todos los días de la semana.<br>\n",
    "24 horas para clientes; acceso a través de la recepción: 98 estaciones son para uso de clientes y requieren contactar a la recepción.<br>\n",
    "24 horas en estacionamiento de pago; acceso a través de valet: 80 estaciones están en estacionamientos de pago y requieren contactar al valet.<br>\n",
    "<br>\n",
    "**Red de EV (EV Network)**<br>\n",
    "ChargePoint Network: 1,627 estaciones están en la red de ChargePoint.<br>\n",
    "Tesla Destination: 472 estaciones pertenecen a la red de Tesla Destination.<br>\n",
    "EV Connect: 334 estaciones están en la red de EV Connect.<br>\n",
    "Non-Networked: 269 estaciones no están en una red específica.<br>\n",
    "LIVINGSTON: 190 estaciones están en la red de LIVINGSTON.<br>\n",
    "<br>\n",
    "**Acceso Restringido (Restricted Access)**<br>\n",
    "No Restringido: La mayoría de las estaciones (2,624) no tienen restricciones de acceso.<br>\n",
    "Restringido: Solo 33 estaciones tienen acceso restringido.<br>\n",
    "<br>"
   ]
  },
  {
   "cell_type": "markdown",
   "id": "fd0e3853",
   "metadata": {},
   "source": [
    "## Conclusiones:\n",
    "1. Estos resultados muestran una fuerte presencia de infraestructura de carga en estados y ciudades específicos, con una marcada predominancia en California y en grandes áreas metropolitanas. Esta información puede ser útil para entender las regiones con mejor infraestructura de carga y potencialmente identificar áreas con necesidades de expansión.\n",
    "<br>\n",
    "2. El análisis de la disponibilidad y el acceso a las estaciones de carga en el estado de Nueva York, nos muestra una alta disponibilidad de estaciones de carga en el estado de Nueva York, con la mayoría disponibles las 24 horas del día y accesibles sin restricciones significativas. La presencia de varias redes de carga, como ChargePoint y Tesla, también indica una buena cobertura de servicios de carga para diferentes tipos de vehículos eléctricos. ​"
   ]
  }
 ],
 "metadata": {
  "kernelspec": {
   "display_name": "Python 3",
   "language": "python",
   "name": "python3"
  },
  "language_info": {
   "codemirror_mode": {
    "name": "ipython",
    "version": 3
   },
   "file_extension": ".py",
   "mimetype": "text/x-python",
   "name": "python",
   "nbconvert_exporter": "python",
   "pygments_lexer": "ipython3",
   "version": "3.11.3"
  }
 },
 "nbformat": 4,
 "nbformat_minor": 5
}
